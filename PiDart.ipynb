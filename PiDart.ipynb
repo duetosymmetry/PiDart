{
 "cells": [
  {
   "cell_type": "markdown",
   "metadata": {},
   "source": [
    "# Introduction"
   ]
  },
  {
   "cell_type": "markdown",
   "metadata": {},
   "source": [
    "Here's the problem: we'd like to know the area under a particular curve, here, the quarter of the unit circle in the +x, +y quadrant, which you might have seen called quandrant I.\n",
    "\n",
    "One way we can do this is throw darts at the unit square, and see what fraction his the unit quarter circle.\n",
    "\n",
    "We'll write a computer program to do this."
   ]
  },
  {
   "cell_type": "markdown",
   "metadata": {},
   "source": [
    "# Printing stuff out"
   ]
  },
  {
   "cell_type": "markdown",
   "metadata": {},
   "source": [
    "Run the cell below to print a number. Try changing the number."
   ]
  },
  {
   "cell_type": "code",
   "execution_count": null,
   "metadata": {},
   "outputs": [],
   "source": [
    "print(4444)"
   ]
  },
  {
   "cell_type": "markdown",
   "metadata": {},
   "source": [
    "# Random numbers"
   ]
  },
  {
   "cell_type": "markdown",
   "metadata": {},
   "source": [
    "First, we'll need a way to make random numbers. This python code does the trick. Run the next cell once."
   ]
  },
  {
   "cell_type": "code",
   "execution_count": null,
   "metadata": {},
   "outputs": [],
   "source": [
    "import random"
   ]
  },
  {
   "cell_type": "markdown",
   "metadata": {},
   "source": [
    "Try running this cell over and over. What does it do?"
   ]
  },
  {
   "cell_type": "code",
   "execution_count": null,
   "metadata": {},
   "outputs": [],
   "source": [
    "print(random.random())"
   ]
  },
  {
   "cell_type": "markdown",
   "metadata": {},
   "source": [
    "Let's imagine throwing a dart at the unit square. The next cell puts a random number in a variable called x, and a random number in a variable called y."
   ]
  },
  {
   "cell_type": "code",
   "execution_count": null,
   "metadata": {},
   "outputs": [],
   "source": [
    "x = random.random()\n",
    "y = random.random()\n",
    "print(x)\n",
    "print(y)"
   ]
  },
  {
   "cell_type": "markdown",
   "metadata": {},
   "source": [
    "If the dart is inside the unit quarter circle, then the distance from the origin is less than 1.\n",
    "\n",
    "This cell prints \"True\" if the dart hit, false if not."
   ]
  },
  {
   "cell_type": "code",
   "execution_count": null,
   "metadata": {},
   "outputs": [],
   "source": [
    "x = random.random()\n",
    "y = random.random()\n",
    "print(x*x+y*y)\n",
    "print(x*x+y*y < 1)"
   ]
  },
  {
   "cell_type": "markdown",
   "metadata": {},
   "source": [
    "# Loops"
   ]
  },
  {
   "cell_type": "markdown",
   "metadata": {},
   "source": [
    "We'd like to do this over and over. Do do this, we'll tell the computer to do a loop. The \"while\" statement does everything \"inside it\" (the indented lines underneath) until the statement next to \"while\" is false. Here's an example. Run it. Try changing the 10 to a bigger number. Try changing the +1 to +2."
   ]
  },
  {
   "cell_type": "code",
   "execution_count": null,
   "metadata": {},
   "outputs": [],
   "source": [
    "throws = 0\n",
    "while throws < 10:\n",
    "    print(throws)\n",
    "    throws = throws + 1"
   ]
  },
  {
   "cell_type": "markdown",
   "metadata": {},
   "source": [
    "Let's put our previous code to throw a dart inside a loop. We'll copy the above loop, and put our dart code in the middle.\n",
    "\n",
    "If you run this over and over, we'd like to keep track of how many hits we have. This cell updates the program to keep count of how many hits. Run the first cell to reset the counter. Run the second cell over and over to see how many hit."
   ]
  },
  {
   "cell_type": "code",
   "execution_count": null,
   "metadata": {},
   "outputs": [],
   "source": [
    "throws = 0\n",
    "while throws < 10:\n",
    "    print(throws)\n",
    "    x = random.random()\n",
    "    y = random.random()\n",
    "    print(x*x+y*y)\n",
    "    print(x*x+y*y < 1)\n",
    "    throws = throws + 1"
   ]
  },
  {
   "cell_type": "markdown",
   "metadata": {},
   "source": [
    "Now, we would like the computer to keep track of how many hits. Let's add a line that does this for us. Let's also get rid of the print statements in the loop. Instead, print the number of hits and number of throws. Notice anything about the fraction of darts that hit? Try printing 4.0 * hits / throws."
   ]
  },
  {
   "cell_type": "code",
   "execution_count": null,
   "metadata": {},
   "outputs": [],
   "source": [
    "throws = 0\n",
    "hits = 0\n",
    "while throws < 100000:\n",
    "    x = random.random()\n",
    "    y = random.random()\n",
    "    if(x*x+y*y < 1):\n",
    "        hits = hits + 1\n",
    "    throws = throws + 1\n",
    "print(hits)\n",
    "print(throws)\n",
    "print(hits/throws)"
   ]
  },
  {
   "cell_type": "code",
   "execution_count": null,
   "metadata": {},
   "outputs": [],
   "source": []
  }
 ],
 "metadata": {
  "kernelspec": {
   "display_name": "Python 3",
   "language": "python",
   "name": "python3"
  },
  "language_info": {
   "codemirror_mode": {
    "name": "ipython",
    "version": 3
   },
   "file_extension": ".py",
   "mimetype": "text/x-python",
   "name": "python",
   "nbconvert_exporter": "python",
   "pygments_lexer": "ipython3",
   "version": "3.6.5"
  }
 },
 "nbformat": 4,
 "nbformat_minor": 2
}
