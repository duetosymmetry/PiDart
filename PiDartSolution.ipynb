{
 "cells": [
  {
   "cell_type": "markdown",
   "metadata": {},
   "source": [
    "# Introduction"
   ]
  },
  {
   "cell_type": "markdown",
   "metadata": {},
   "source": [
    "Here's the problem: we'd like to know the area under a particular curve, here, the quarter of the unit circle in the +x, +y quadrant, which you might have seen called quandrant I.\n",
    "\n",
    "One way we can do this is throw darts at the unit square, and see what fraction his the unit quarter circle.\n",
    "\n",
    "We'll write a computer program to do this."
   ]
  },
  {
   "cell_type": "markdown",
   "metadata": {},
   "source": [
    "# Solution - Pi Dartboard"
   ]
  },
  {
   "cell_type": "code",
   "execution_count": null,
   "metadata": {},
   "outputs": [],
   "source": [
    "import random\n",
    "throws = 0\n",
    "hits = 0\n",
    "while throws < 100000:\n",
    "    x = random.random()\n",
    "    y = random.random()\n",
    "    if(x*x+y*y < 1):\n",
    "        hits = hits + 1\n",
    "    throws = throws + 1\n",
    "print(4.0*hits/throws)"
   ]
  },
  {
   "cell_type": "code",
   "execution_count": null,
   "metadata": {},
   "outputs": [],
   "source": []
  }
 ],
 "metadata": {
  "kernelspec": {
   "display_name": "Python 3",
   "language": "python",
   "name": "python3"
  },
  "language_info": {
   "codemirror_mode": {
    "name": "ipython",
    "version": 3
   },
   "file_extension": ".py",
   "mimetype": "text/x-python",
   "name": "python",
   "nbconvert_exporter": "python",
   "pygments_lexer": "ipython3",
   "version": "3.6.5"
  }
 },
 "nbformat": 4,
 "nbformat_minor": 2
}
